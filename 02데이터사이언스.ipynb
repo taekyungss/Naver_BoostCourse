{
  "nbformat": 4,
  "nbformat_minor": 0,
  "metadata": {
    "colab": {
      "private_outputs": true,
      "provenance": [],
      "mount_file_id": "1LLx5GRqTLQnDl8VBx5lsMUw64qEdM9m5",
      "authorship_tag": "ABX9TyO+dG236tHBAu4z4lr4Axs4",
      "include_colab_link": true
    },
    "kernelspec": {
      "name": "python3",
      "display_name": "Python 3"
    },
    "language_info": {
      "name": "python"
    }
  },
  "cells": [
    {
      "cell_type": "markdown",
      "metadata": {
        "id": "view-in-github",
        "colab_type": "text"
      },
      "source": [
        "<a href=\"https://colab.research.google.com/github/taekyungss/Naver_BoostCourse/blob/main/02%EB%8D%B0%EC%9D%B4%ED%84%B0%EC%82%AC%EC%9D%B4%EC%96%B8%EC%8A%A4.ipynb\" target=\"_parent\"><img src=\"https://colab.research.google.com/assets/colab-badge.svg\" alt=\"Open In Colab\"/></a>"
      ]
    },
    {
      "cell_type": "markdown",
      "source": [
        "### 라이브러리 불러오기"
      ],
      "metadata": {
        "id": "plqh14DgDAik"
      }
    },
    {
      "cell_type": "code",
      "source": [
        "# !sudo apt-get install -y fonts-nanum\n",
        "# !sudo fc-cache -fv\n",
        "# !rm ~/.cache/matplotlib -rf\n",
        "\n",
        "!pip install koreanize-matplotlib\n",
        "\n",
        "import pandas as pd\n",
        "import koreanize_matplotlib\n",
        "%matplotlib inline"
      ],
      "metadata": {
        "id": "2DzSDrQLGTa3"
      },
      "execution_count": null,
      "outputs": []
    },
    {
      "cell_type": "code",
      "execution_count": null,
      "metadata": {
        "id": "7bis3AOlB_U3"
      },
      "outputs": [],
      "source": [
        "import pandas as pd\n",
        "import numpy as np\n",
        "import seaborn as sns"
      ]
    },
    {
      "cell_type": "code",
      "source": [
        "# import matplotlib.pyplot as plt\n",
        "# plt.rc(\"font\", family = \"NanumBarunGothic\")\n",
        "# plt.rc(\"axes\", unicode_minus = False)\n",
        "\n",
        "# %matplotlib inline"
      ],
      "metadata": {
        "id": "7ev50l6gCS8W"
      },
      "execution_count": null,
      "outputs": []
    },
    {
      "cell_type": "code",
      "source": [
        "from IPython.display import set_matplotlib_formats\n",
        "set_matplotlib_formats(\"retina\")"
      ],
      "metadata": {
        "id": "qcusUcwyCeVb"
      },
      "execution_count": null,
      "outputs": []
    },
    {
      "cell_type": "markdown",
      "source": [
        "### 데이터 로드하기"
      ],
      "metadata": {
        "id": "fCb7wx1-DG3a"
      }
    },
    {
      "cell_type": "code",
      "source": [
        "df = pd.read_csv(\"/content/drive/MyDrive/Colab Notebooks/boostcourse/소상공인시장진흥공단_상가업소정보_의료기관_201909/소상공인시장진흥공단_상가업소정보_의료기관_201909.csv\", low_memory=False)\n",
        "df.shape"
      ],
      "metadata": {
        "id": "3ZSgXaeCCzqi"
      },
      "execution_count": null,
      "outputs": []
    },
    {
      "cell_type": "code",
      "source": [
        "df.head()"
      ],
      "metadata": {
        "id": "CRIw_bHSEPTj"
      },
      "execution_count": null,
      "outputs": []
    },
    {
      "cell_type": "code",
      "source": [
        "df.tail()"
      ],
      "metadata": {
        "id": "6HP1sfzsEdZ7"
      },
      "execution_count": null,
      "outputs": []
    },
    {
      "cell_type": "code",
      "source": [
        "df.sample()"
      ],
      "metadata": {
        "id": "s-7ELm2EEeNR"
      },
      "execution_count": null,
      "outputs": []
    },
    {
      "cell_type": "code",
      "source": [
        "df.info()"
      ],
      "metadata": {
        "id": "dZrYjhIPEhCP"
      },
      "execution_count": null,
      "outputs": []
    },
    {
      "cell_type": "code",
      "source": [
        "# 컬럼병 보기\n",
        "\n",
        "df.columns"
      ],
      "metadata": {
        "id": "rWfPGYfJEs7k"
      },
      "execution_count": null,
      "outputs": []
    },
    {
      "cell_type": "code",
      "source": [
        "# 데이터 타입\n",
        "\n",
        "df.dtypes"
      ],
      "metadata": {
        "id": "E0Y7-pbJE-CV"
      },
      "execution_count": null,
      "outputs": []
    },
    {
      "cell_type": "markdown",
      "source": [
        "### 결측치"
      ],
      "metadata": {
        "id": "x2WoLtECFOJF"
      }
    },
    {
      "cell_type": "code",
      "source": [
        "null_count = df.isnull().sum()\n",
        "null_count\n",
        "# True : null 값 / True ==1"
      ],
      "metadata": {
        "id": "J1CxcG1FFLtK"
      },
      "execution_count": null,
      "outputs": []
    },
    {
      "cell_type": "code",
      "source": [
        "# 위에서 구한 결측지를 .plot.bar를 통해 막대그래프의 형태로 표현\n",
        "\n",
        "# barh 는 x축과 y축 돌리기 (글자가 다 잘 안보일때 사용), 그림 사이즈도 조절\n",
        "\n",
        "null_count.plot.barh(figsize=(5,7))"
      ],
      "metadata": {
        "id": "QDMRRj7IFXuy"
      },
      "execution_count": null,
      "outputs": []
    },
    {
      "cell_type": "code",
      "source": [
        "# 위에서 계산한 결측치 수를 reset_index를 통해 데이터 프레임으로 만들기\n",
        "\n",
        "df_null_count = null_count.reset_index()\n",
        "df_null_count.head()"
      ],
      "metadata": {
        "id": "aWAO5T07Fx4x"
      },
      "execution_count": null,
      "outputs": []
    },
    {
      "cell_type": "code",
      "source": [
        "df_null_count.columns = [\"컬럼명\", \"결측치수\"]\n",
        "df_null_count.head()"
      ],
      "metadata": {
        "id": "9Lg4IxwJH_Zx"
      },
      "execution_count": null,
      "outputs": []
    },
    {
      "cell_type": "code",
      "source": [
        "# 결측치수 정렬\n",
        "df_null_count_top = df_null_count.sort_values(by=\"결측치수\", ascending=False).head(10)"
      ],
      "metadata": {
        "id": "IKsO9CNDIGUW"
      },
      "execution_count": null,
      "outputs": []
    },
    {
      "cell_type": "code",
      "source": [
        "# 특정 컬럼만 불러오기 NaN = Not a Number 결측치\n",
        "\n",
        "df[\"지점명\"].head()"
      ],
      "metadata": {
        "id": "j--KvHwDIVoM"
      },
      "execution_count": null,
      "outputs": []
    },
    {
      "cell_type": "code",
      "source": [
        "df_null_count[\"컬럼명\"]"
      ],
      "metadata": {
        "id": "CdJm9TqlJC9P"
      },
      "execution_count": null,
      "outputs": []
    },
    {
      "cell_type": "code",
      "source": [
        "drop_columns = df_null_count_top[\"컬럼명\"].tolist()\n",
        "drop_columns"
      ],
      "metadata": {
        "id": "Bdif4As4JLea"
      },
      "execution_count": null,
      "outputs": []
    },
    {
      "cell_type": "code",
      "source": [
        "df[drop_columns].head()"
      ],
      "metadata": {
        "id": "G5bVWb-GJdmm"
      },
      "execution_count": null,
      "outputs": []
    },
    {
      "cell_type": "code",
      "source": [
        "# 결측치 제거 컬럼 기준으로 드랍\n",
        "\n",
        "df = df.drop(drop_columns, axis=1)\n",
        "df.info()"
      ],
      "metadata": {
        "id": "xNXmbOjiJnrR"
      },
      "execution_count": null,
      "outputs": []
    },
    {
      "cell_type": "markdown",
      "source": [
        "### 기초 통계값 보기"
      ],
      "metadata": {
        "id": "2Cvh7-OoKgdu"
      }
    },
    {
      "cell_type": "code",
      "source": [
        "df[\"위도\"].dtypes"
      ],
      "metadata": {
        "id": "sHXQskdDKCVl"
      },
      "execution_count": null,
      "outputs": []
    },
    {
      "cell_type": "code",
      "source": [
        "# 평균값\n",
        "df[\"위도\"].mean()"
      ],
      "metadata": {
        "id": "pFDfHBJMLMgS"
      },
      "execution_count": null,
      "outputs": []
    },
    {
      "cell_type": "code",
      "source": [
        "# 중앙값 \n",
        "df[\"위도\"].median()"
      ],
      "metadata": {
        "id": "y1qE-XlXKpeL"
      },
      "execution_count": null,
      "outputs": []
    },
    {
      "cell_type": "code",
      "source": [
        "# 최댓값\n",
        "df[\"위도\"].max()"
      ],
      "metadata": {
        "id": "38om-RvLLJno"
      },
      "execution_count": null,
      "outputs": []
    },
    {
      "cell_type": "code",
      "source": [
        "df[\"위도\"].min()"
      ],
      "metadata": {
        "id": "ooaO_3RSLUK9"
      },
      "execution_count": null,
      "outputs": []
    },
    {
      "cell_type": "code",
      "source": [
        "df[\"위도\"].count()"
      ],
      "metadata": {
        "id": "909Xg6SyLWEq"
      },
      "execution_count": null,
      "outputs": []
    },
    {
      "cell_type": "code",
      "source": [
        "df[[\"위도\",\"경도\"]].describe()"
      ],
      "metadata": {
        "id": "8ASJWRs7LYdk"
      },
      "execution_count": null,
      "outputs": []
    },
    {
      "cell_type": "code",
      "source": [
        "# describe로 문자열 데이터 타입의 요약 보기 / 모든 수치형 데이터에 대해서 \n",
        "# include로 문자형 / 숫자형 요약정보 확인 가능 (최빈값:top)\n",
        "df.describe(include=\"number\")\n",
        "df.describe(include=\"object\")\n",
        "df.describe(include=\"all\")"
      ],
      "metadata": {
        "id": "GCxe5UPaL0sV"
      },
      "execution_count": null,
      "outputs": []
    },
    {
      "cell_type": "markdown",
      "source": [
        "### 중복 제거한 값 보기"
      ],
      "metadata": {
        "id": "suoYjw0NNXca"
      }
    },
    {
      "cell_type": "code",
      "source": [
        "# 상권업종대분류명\n",
        "\n",
        "df[\"상권업종대분류명\"].unique()"
      ],
      "metadata": {
        "id": "F4AJGwomMwjl"
      },
      "execution_count": null,
      "outputs": []
    },
    {
      "cell_type": "code",
      "source": [
        "df[\"상권업종대분류명\"].nunique()"
      ],
      "metadata": {
        "id": "ttTkbkyOO8Tt"
      },
      "execution_count": null,
      "outputs": []
    },
    {
      "cell_type": "code",
      "source": [
        "# 상권업종중분류명\n",
        "df[\"상권업종중분류명\"].unique()"
      ],
      "metadata": {
        "id": "j_H_wxD6Oslg"
      },
      "execution_count": null,
      "outputs": []
    },
    {
      "cell_type": "code",
      "source": [
        "df[\"상권업종중분류명\"].nunique()"
      ],
      "metadata": {
        "id": "beT_7jncO_ST"
      },
      "execution_count": null,
      "outputs": []
    },
    {
      "cell_type": "code",
      "source": [
        "# 상권업종소분류명\n",
        "df[\"상권업종소분류명\"].unique()"
      ],
      "metadata": {
        "id": "9ralhpnTO3jy"
      },
      "execution_count": null,
      "outputs": []
    },
    {
      "cell_type": "code",
      "source": [
        "df[\"상권업종소분류명\"].nunique()"
      ],
      "metadata": {
        "id": "zG1ymIjyPD_E"
      },
      "execution_count": null,
      "outputs": []
    },
    {
      "cell_type": "code",
      "source": [
        "city = df[\"시도명\"].value_counts()\n",
        "city\n",
        "# z카테고리 형태의 데이터 갯수 세어볼 수 있음."
      ],
      "metadata": {
        "id": "ODNYPh-tPF6r"
      },
      "execution_count": null,
      "outputs": []
    },
    {
      "cell_type": "code",
      "source": [
        "city_normalize = df[\"시도명\"].value_counts(normalize = True)\n",
        "city_normalize\n",
        "# 전체에서 차지하는 비율 계산"
      ],
      "metadata": {
        "id": "k8lzDxRnVz8b"
      },
      "execution_count": null,
      "outputs": []
    },
    {
      "cell_type": "code",
      "source": [
        "# !apt -qq -y install fonts-nanum > /dev/null\n",
        "\n",
        "import matplotlib.font_manager as fm\n",
        "\n",
        "fontpath = '/usr/share/fonts/truetype/nanum/NanumBarunGothic.ttf'\n",
        "font = fm.FontProperties(fname=fontpath, size=9)\n",
        "fm._rebuild()\n",
        "\n",
        "\n",
        "# # # Colab 의 한글 폰트 설정\n",
        "# plt.rc('font', family='NanumGothic') \n",
        "# # # 마이너스 폰트 깨지는 문제에 대한 대처\n",
        "plt.rc(\"axes\", unicode_minus=False)\n",
        "\n",
        "# # import matplotlib.font_manager as fm\n",
        "# import warnings\n",
        "# warnings.filterwarnings(action='ignore') \n",
        "\n",
        "# path = '/usr/share/fonts/truetype/nanum/NanumGothic.ttf' # 나눔 고딕\n",
        "# font_name = fm.FontProperties(fname=path, size=10).get_name() # 기본 폰트 사이즈 : 10\n",
        "# plt.rc('font', family=font_name)\n",
        "# fm._rebuild()"
      ],
      "metadata": {
        "id": "Fa0063XWDMQY"
      },
      "execution_count": null,
      "outputs": []
    },
    {
      "cell_type": "code",
      "source": [
        "#위에서 분석한 시도명 수를 막대그래프로 표현\n",
        "\n",
        "import matplotlib as mpl\n",
        "\n",
        "# # 유니코드 깨짐현상 해결\n",
        "# mpl.rcParams['axes.unicode_minus'] = False\n",
        "\n",
        "# # 나눔고딕 폰트 적용\n",
        "# plt.rcParams[\"font.family\"] = 'NanumGothic'\n",
        "\n",
        "city.plot()"
      ],
      "metadata": {
        "id": "PLGoi-WtWNRM"
      },
      "execution_count": null,
      "outputs": []
    },
    {
      "cell_type": "code",
      "source": [
        "city.plot.barh()"
      ],
      "metadata": {
        "id": "GGFDHI3SCXPT"
      },
      "execution_count": null,
      "outputs": []
    },
    {
      "cell_type": "code",
      "source": [
        "# 파이 그래프 그리기\n",
        "city.plot.pie(figsize = (7,7))"
      ],
      "metadata": {
        "id": "RTJH1KoEEKdt"
      },
      "execution_count": null,
      "outputs": []
    },
    {
      "cell_type": "code",
      "source": [
        "# seaborn의 countplot그리기\n",
        "sns.countplot(data=df, y=\"시도명\")"
      ],
      "metadata": {
        "id": "VrDyhgNHEa_x"
      },
      "execution_count": null,
      "outputs": []
    },
    {
      "cell_type": "code",
      "source": [
        "df[\"상권업종대분류명\"].value_counts()"
      ],
      "metadata": {
        "id": "eonNTkLzFr6E"
      },
      "execution_count": null,
      "outputs": []
    },
    {
      "cell_type": "code",
      "source": [
        "c = df[\"상권업종중분류명\"].value_counts()\n",
        "c"
      ],
      "metadata": {
        "id": "LT72tDWXE2zx"
      },
      "execution_count": null,
      "outputs": []
    },
    {
      "cell_type": "code",
      "source": [
        "n = df[\"상권업종중분류명\"].value_counts(normalize=True)\n",
        "n"
      ],
      "metadata": {
        "id": "v4-pRHJwFQO4"
      },
      "execution_count": null,
      "outputs": []
    },
    {
      "cell_type": "code",
      "source": [
        "c.plot.bar(rot=1)"
      ],
      "metadata": {
        "id": "sFzR6UqcFcee"
      },
      "execution_count": null,
      "outputs": []
    },
    {
      "cell_type": "code",
      "source": [
        "n.plot.pie()"
      ],
      "metadata": {
        "id": "ymkYGFiWF0cb"
      },
      "execution_count": null,
      "outputs": []
    },
    {
      "cell_type": "code",
      "source": [
        "c = df[\"상권업종소분류명\"].value_counts()\n",
        "c.plot.barh(figsize = (7,9), grid = True)"
      ],
      "metadata": {
        "id": "0Fpe8CAjF8fi"
      },
      "execution_count": null,
      "outputs": []
    },
    {
      "cell_type": "code",
      "source": [
        "df_medical = df[df[\"상권업종중분류명\"] == \"약국/한약방\"].copy()"
      ],
      "metadata": {
        "id": "Geq9WixLGCgl"
      },
      "execution_count": null,
      "outputs": []
    },
    {
      "cell_type": "code",
      "source": [],
      "metadata": {
        "id": "O4xsnIPfuyGE"
      },
      "execution_count": null,
      "outputs": []
    }
  ]
}