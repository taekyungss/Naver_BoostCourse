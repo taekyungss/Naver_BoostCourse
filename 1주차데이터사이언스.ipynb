{
  "nbformat": 4,
  "nbformat_minor": 0,
  "metadata": {
    "colab": {
      "private_outputs": true,
      "provenance": [],
      "authorship_tag": "ABX9TyNTAro17uBKZSLTcERK1DZR",
      "include_colab_link": true
    },
    "kernelspec": {
      "name": "python3",
      "display_name": "Python 3"
    },
    "language_info": {
      "name": "python"
    }
  },
  "cells": [
    {
      "cell_type": "markdown",
      "metadata": {
        "id": "view-in-github",
        "colab_type": "text"
      },
      "source": [
        "<a href=\"https://colab.research.google.com/github/taekyungss/Naver_BoostCourse/blob/main/1%EC%A3%BC%EC%B0%A8%EB%8D%B0%EC%9D%B4%ED%84%B0%EC%82%AC%EC%9D%B4%EC%96%B8%EC%8A%A4.ipynb\" target=\"_parent\"><img src=\"https://colab.research.google.com/assets/colab-badge.svg\" alt=\"Open In Colab\"/></a>"
      ]
    },
    {
      "cell_type": "code",
      "execution_count": null,
      "metadata": {
        "id": "IG_S3j7m6Mvw"
      },
      "outputs": [],
      "source": [
        "import pandas as pd\n",
        "import numpy as np"
      ]
    },
    {
      "cell_type": "markdown",
      "source": [
        "### DataFrame"
      ],
      "metadata": {
        "id": "QdJyOXEJ6qGj"
      }
    },
    {
      "cell_type": "code",
      "source": [
        "df = pd.DataFrame(\n",
        "    {'a':[4,5,6,4],\n",
        "     'b':[7,8,9,7],\n",
        "     'c':[10,11,12,13]},\n",
        "    index = [1,2,3,4])\n",
        "\n",
        "df"
      ],
      "metadata": {
        "id": "u9YPPlHS6r3V"
      },
      "execution_count": null,
      "outputs": []
    },
    {
      "cell_type": "markdown",
      "source": [
        "### Series"
      ],
      "metadata": {
        "id": "rTZlXM-s7fl3"
      }
    },
    {
      "cell_type": "code",
      "source": [
        "df[\"a\"] #1차원"
      ],
      "metadata": {
        "id": "WznkhqHk6uWF"
      },
      "execution_count": null,
      "outputs": []
    },
    {
      "cell_type": "code",
      "source": [
        "df[[\"a\"]] #2차원"
      ],
      "metadata": {
        "id": "ehpsMxAz7ifi"
      },
      "execution_count": null,
      "outputs": []
    },
    {
      "cell_type": "markdown",
      "source": [
        "### subset"
      ],
      "metadata": {
        "id": "4_olrqqI7vmw"
      }
    },
    {
      "cell_type": "code",
      "source": [
        "df[df[\"a\"]>4]"
      ],
      "metadata": {
        "id": "jEnzY_7s7ro-"
      },
      "execution_count": null,
      "outputs": []
    },
    {
      "cell_type": "code",
      "source": [
        "# error df[\"a\",\"b\"]\n",
        "\n",
        "df[[\"a\",\"b\"]]"
      ],
      "metadata": {
        "id": "iFej4j2q70ef"
      },
      "execution_count": null,
      "outputs": []
    },
    {
      "cell_type": "code",
      "source": [
        "# 행가져오기\n",
        "\n",
        "# df.loc / df.iloc (인덱스)"
      ],
      "metadata": {
        "id": "-9bYClyA8CR6"
      },
      "execution_count": null,
      "outputs": []
    },
    {
      "cell_type": "markdown",
      "source": [
        "### Summarize Data"
      ],
      "metadata": {
        "id": "kpdBPrkI8TgS"
      }
    },
    {
      "cell_type": "code",
      "source": [
        "df[\"a\"].value_counts()\n",
        "\n",
        "# 빈도수 세서 반환"
      ],
      "metadata": {
        "id": "l3yyY9Nh8TAc"
      },
      "execution_count": null,
      "outputs": []
    },
    {
      "cell_type": "code",
      "source": [
        "len(df)"
      ],
      "metadata": {
        "id": "wgBcLyyc8tPi"
      },
      "execution_count": null,
      "outputs": []
    },
    {
      "cell_type": "markdown",
      "source": [
        "### Reshaping"
      ],
      "metadata": {
        "id": "VRY5d6jT8pv_"
      }
    },
    {
      "cell_type": "code",
      "source": [
        "df"
      ],
      "metadata": {
        "id": "m42e-f9F8Xna"
      },
      "execution_count": null,
      "outputs": []
    },
    {
      "cell_type": "code",
      "source": [
        "df[\"a\"].sort_values()"
      ],
      "metadata": {
        "id": "LRfTPN5d8yuZ"
      },
      "execution_count": null,
      "outputs": []
    },
    {
      "cell_type": "code",
      "source": [
        "df.sort_values(\"a\")"
      ],
      "metadata": {
        "id": "xuutvxWC85sb"
      },
      "execution_count": null,
      "outputs": []
    },
    {
      "cell_type": "code",
      "source": [
        "df.sort_values(\"a\", ascending = False)"
      ],
      "metadata": {
        "id": "S7WlHowv8-1d"
      },
      "execution_count": null,
      "outputs": []
    },
    {
      "cell_type": "code",
      "source": [
        "df = df.drop([\"c\"], axis=1) #컬럼 기준 drop"
      ],
      "metadata": {
        "id": "onG-smV29Bsm"
      },
      "execution_count": null,
      "outputs": []
    },
    {
      "cell_type": "code",
      "source": [
        "df"
      ],
      "metadata": {
        "id": "I2OA_5Ev9Dta"
      },
      "execution_count": null,
      "outputs": []
    },
    {
      "cell_type": "markdown",
      "source": [
        "### Group Data"
      ],
      "metadata": {
        "id": "z_201wMz9ZML"
      }
    },
    {
      "cell_type": "code",
      "source": [
        "# Groupby pivot_table"
      ],
      "metadata": {
        "id": "TLvRpo4B9QCe"
      },
      "execution_count": null,
      "outputs": []
    },
    {
      "cell_type": "code",
      "source": [
        "df.groupby([\"a\"])[\"b\"].mean()"
      ],
      "metadata": {
        "id": "iN9ncq419d6G"
      },
      "execution_count": null,
      "outputs": []
    },
    {
      "cell_type": "code",
      "source": [
        "df.groupby([\"a\"])[\"b\"].agg([\"mean\", \"sum\",\"count\"])"
      ],
      "metadata": {
        "id": "I5u01pVv9nLq"
      },
      "execution_count": null,
      "outputs": []
    },
    {
      "cell_type": "code",
      "source": [
        "df.groupby([\"a\"])[\"b\"].describe()"
      ],
      "metadata": {
        "id": "7gLBHeJf-HaZ"
      },
      "execution_count": null,
      "outputs": []
    },
    {
      "cell_type": "code",
      "source": [
        "pd.pivot_table(df, index=\"a\", values=\"b\", aggfunc=\"sum\")"
      ],
      "metadata": {
        "id": "JXfi6FOJ-QY-"
      },
      "execution_count": null,
      "outputs": []
    },
    {
      "cell_type": "markdown",
      "source": [
        "### plotting"
      ],
      "metadata": {
        "id": "VEp9Hgaj-orU"
      }
    },
    {
      "cell_type": "code",
      "source": [
        "df.plot()"
      ],
      "metadata": {
        "id": "u-DNVKpD-bCB"
      },
      "execution_count": null,
      "outputs": []
    },
    {
      "cell_type": "code",
      "source": [
        "df.plot.bar()"
      ],
      "metadata": {
        "id": "xKESiQHX-s0G"
      },
      "execution_count": null,
      "outputs": []
    },
    {
      "cell_type": "code",
      "source": [
        "df.plot.density()"
      ],
      "metadata": {
        "id": "7JZjR694-2KZ"
      },
      "execution_count": null,
      "outputs": []
    }
  ]
}