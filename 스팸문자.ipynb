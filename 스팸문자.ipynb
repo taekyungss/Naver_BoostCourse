{
  "nbformat": 4,
  "nbformat_minor": 0,
  "metadata": {
    "colab": {
      "private_outputs": true,
      "provenance": [],
      "mount_file_id": "1rBPjM3bFudHi82vZgupqtbT2Ze86VSHI",
      "authorship_tag": "ABX9TyPu6kAk7NTCqmmMpNq31y1G",
      "include_colab_link": true
    },
    "kernelspec": {
      "name": "python3",
      "display_name": "Python 3"
    },
    "language_info": {
      "name": "python"
    }
  },
  "cells": [
    {
      "cell_type": "markdown",
      "metadata": {
        "id": "view-in-github",
        "colab_type": "text"
      },
      "source": [
        "<a href=\"https://colab.research.google.com/github/taekyungss/Naver_BoostCourse/blob/main/%EC%8A%A4%ED%8C%B8%EB%AC%B8%EC%9E%90.ipynb\" target=\"_parent\"><img src=\"https://colab.research.google.com/assets/colab-badge.svg\" alt=\"Open In Colab\"/></a>"
      ]
    },
    {
      "cell_type": "code",
      "source": [
        "import pandas as pd\n",
        "import numpy as np"
      ],
      "metadata": {
        "id": "p5YhAkoGKMTX"
      },
      "execution_count": null,
      "outputs": []
    },
    {
      "cell_type": "code",
      "execution_count": null,
      "metadata": {
        "id": "yyBYJf4tJHty"
      },
      "outputs": [],
      "source": [
        "df = pd.read_csv(\"/content/drive/MyDrive/Colab Notebooks/boostcourse/Spam006.csv\")\n",
        "df.columns = [\"index\", \"message\"]\n",
        "df.tail(10)"
      ]
    },
    {
      "cell_type": "code",
      "source": [
        "# 정규식을 사용해서 특수문자, 영어 제거하기\n",
        "\n",
        "import re\n",
        "df[\"message\"] = [re.sub('[^0-9가-힣]', '', s) for s in df[\"message\"]]\n",
        "df"
      ],
      "metadata": {
        "id": "Bl7cldUvM4b4"
      },
      "execution_count": null,
      "outputs": []
    },
    {
      "cell_type": "code",
      "source": [
        "# 형태소 분석\n",
        "! pip install konlpy"
      ],
      "metadata": {
        "id": "J_BYjcXLW_bD"
      },
      "execution_count": null,
      "outputs": []
    },
    {
      "cell_type": "code",
      "source": [
        "from konlpy.tag import Okt"
      ],
      "metadata": {
        "id": "YXV1Nx-mXdfQ"
      },
      "execution_count": null,
      "outputs": []
    },
    {
      "cell_type": "code",
      "source": [
        "# 예시 작동확인\n",
        "# tokenizer = Okt()\n",
        "# kor_text =\"안녕하십니까저는이학년삼반육번인김태경입니다.\"\n",
        "# print(tokenizer(kor_text))"
      ],
      "metadata": {
        "id": "j6Znl88IXv5C"
      },
      "execution_count": null,
      "outputs": []
    },
    {
      "cell_type": "code",
      "source": [
        "df[\"tokenized\"] = df[\"message\"].apply(tokenizer.nouns)"
      ],
      "metadata": {
        "id": "MalihsgEX882"
      },
      "execution_count": null,
      "outputs": []
    },
    {
      "cell_type": "code",
      "source": [
        "df"
      ],
      "metadata": {
        "id": "nNhpANbTYWwD"
      },
      "execution_count": null,
      "outputs": []
    },
    {
      "cell_type": "code",
      "source": [
        "# 불용어 리스트\n",
        "\n",
        "stop_words = ['발신', '국제','국외','확인','거부','수신']\n",
        "df[\"tokenized\"] = df[\"tokenized\"].apply(lambda x: [item for item in x if item not in stop_words and len(item)>1])"
      ],
      "metadata": {
        "id": "2Wtsa1ubhgZy"
      },
      "execution_count": null,
      "outputs": []
    },
    {
      "cell_type": "code",
      "source": [
        "from collections import Counter"
      ],
      "metadata": {
        "id": "F2i4L_fLf3Y0"
      },
      "execution_count": null,
      "outputs": []
    },
    {
      "cell_type": "code",
      "source": [
        "content = np.hstack(df[\"tokenized\"].values)\n",
        "content"
      ],
      "metadata": {
        "id": "ptwzSDOQf63Q"
      },
      "execution_count": null,
      "outputs": []
    },
    {
      "cell_type": "code",
      "source": [
        "content_count = Counter(content)\n",
        "print(content_count.most_common(20))"
      ],
      "metadata": {
        "id": "CMdHJjdigcO-"
      },
      "execution_count": null,
      "outputs": []
    },
    {
      "cell_type": "code",
      "source": [
        "# 워드 클라우드 그리기"
      ],
      "metadata": {
        "id": "T5obfVUYhE_2"
      },
      "execution_count": null,
      "outputs": []
    }
  ]
}