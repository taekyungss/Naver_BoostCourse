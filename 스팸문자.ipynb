{
  "nbformat": 4,
  "nbformat_minor": 0,
  "metadata": {
    "colab": {
      "private_outputs": true,
      "provenance": [],
      "mount_file_id": "1rBPjM3bFudHi82vZgupqtbT2Ze86VSHI",
      "authorship_tag": "ABX9TyOiAcKo04mXxQczIksmabTs",
      "include_colab_link": true
    },
    "kernelspec": {
      "name": "python3",
      "display_name": "Python 3"
    },
    "language_info": {
      "name": "python"
    }
  },
  "cells": [
    {
      "cell_type": "markdown",
      "metadata": {
        "id": "view-in-github",
        "colab_type": "text"
      },
      "source": [
        "<a href=\"https://colab.research.google.com/github/taekyungss/Naver_BoostCourse/blob/main/%EC%8A%A4%ED%8C%B8%EB%AC%B8%EC%9E%90.ipynb\" target=\"_parent\"><img src=\"https://colab.research.google.com/assets/colab-badge.svg\" alt=\"Open In Colab\"/></a>"
      ]
    },
    {
      "cell_type": "code",
      "source": [
        "import pandas as pd\n",
        "import numpy as np"
      ],
      "metadata": {
        "id": "p5YhAkoGKMTX"
      },
      "execution_count": null,
      "outputs": []
    },
    {
      "cell_type": "code",
      "execution_count": null,
      "metadata": {
        "id": "yyBYJf4tJHty"
      },
      "outputs": [],
      "source": [
        "df = pd.read_csv(\"/content/drive/MyDrive/Colab Notebooks/boostcourse/Spam006.csv\")\n",
        "df.columns = [\"index\", \"message\"]\n",
        "df.tail(10)"
      ]
    },
    {
      "cell_type": "code",
      "source": [
        "# 정규식을 사용해서 특수문자, 영어 제거하기\n",
        "\n",
        "import re\n",
        "df[\"message\"] = [re.sub('[^0-9가-힣]', '', s) for s in df[\"message\"]]\n",
        "df"
      ],
      "metadata": {
        "id": "Bl7cldUvM4b4"
      },
      "execution_count": null,
      "outputs": []
    },
    {
      "cell_type": "code",
      "source": [
        "# 형태소 분석\n",
        "! pip install konlpy"
      ],
      "metadata": {
        "id": "J_BYjcXLW_bD"
      },
      "execution_count": null,
      "outputs": []
    },
    {
      "cell_type": "code",
      "source": [
        "from konlpy.tag import Okt"
      ],
      "metadata": {
        "id": "YXV1Nx-mXdfQ"
      },
      "execution_count": null,
      "outputs": []
    },
    {
      "cell_type": "code",
      "source": [
        "# 예시 작동확인\n",
        "# tokenizer = Okt()\n",
        "# kor_text =\"안녕하십니까저는이학년삼반육번인김태경입니다.\"\n",
        "# print(tokenizer(kor_text))"
      ],
      "metadata": {
        "id": "j6Znl88IXv5C"
      },
      "execution_count": null,
      "outputs": []
    },
    {
      "cell_type": "code",
      "source": [
        "df[\"tokenized\"] = df[\"message\"].apply(tokenizer.nouns)"
      ],
      "metadata": {
        "id": "MalihsgEX882"
      },
      "execution_count": null,
      "outputs": []
    },
    {
      "cell_type": "code",
      "source": [
        "df"
      ],
      "metadata": {
        "id": "nNhpANbTYWwD"
      },
      "execution_count": null,
      "outputs": []
    },
    {
      "cell_type": "code",
      "source": [
        "# 불용어 리스트\n",
        "\n",
        "stop_words = ['발신', '국제','국외','확인','거부','수신']\n",
        "df[\"tokenized\"] = df[\"tokenized\"].apply(lambda x: [item for item in x if item not in stop_words and len(item)>1])"
      ],
      "metadata": {
        "id": "2Wtsa1ubhgZy"
      },
      "execution_count": null,
      "outputs": []
    },
    {
      "cell_type": "code",
      "source": [
        "from collections import Counter"
      ],
      "metadata": {
        "id": "F2i4L_fLf3Y0"
      },
      "execution_count": null,
      "outputs": []
    },
    {
      "cell_type": "code",
      "source": [
        "content = np.hstack(df[\"tokenized\"].values)\n",
        "content"
      ],
      "metadata": {
        "id": "ptwzSDOQf63Q"
      },
      "execution_count": null,
      "outputs": []
    },
    {
      "cell_type": "code",
      "source": [
        "content_count = Counter(content)\n",
        "print(content_count.most_common(100))"
      ],
      "metadata": {
        "id": "g1RcbNgVnz68"
      },
      "execution_count": null,
      "outputs": []
    },
    {
      "cell_type": "code",
      "source": [
        "# 워드 클라우드 그리기\n",
        "\n",
        "from wordcloud import WordCloud"
      ],
      "metadata": {
        "id": "T5obfVUYhE_2"
      },
      "execution_count": null,
      "outputs": []
    },
    {
      "cell_type": "code",
      "source": [
        "# 모든 명사 토큰들을 다시 하나의 문자열로 연결하기\n",
        "temp_data = ' '.join(content)\n",
        "temp_data"
      ],
      "metadata": {
        "id": "AeVc7yu6i0fN"
      },
      "execution_count": null,
      "outputs": []
    },
    {
      "cell_type": "code",
      "source": [
        "import matplotlib.pyplot as plt\n",
        "%matplotlib inline"
      ],
      "metadata": {
        "id": "-YZEhan7i_yB"
      },
      "execution_count": null,
      "outputs": []
    },
    {
      "cell_type": "code",
      "source": [
        "!apt-get install fonts-nanum*\n",
        "!apt-get install fontconfig"
      ],
      "metadata": {
        "id": "JgyLSmoTk70-"
      },
      "execution_count": null,
      "outputs": []
    },
    {
      "cell_type": "code",
      "source": [
        "fontpath = '/usr/share/fonts/truetype/nanum/NanumBarunGothic.ttf'"
      ],
      "metadata": {
        "id": "qYAQm8lGlMJy"
      },
      "execution_count": null,
      "outputs": []
    },
    {
      "cell_type": "code",
      "source": [
        "plt.figure(figsize=(15,15))\n",
        "\n",
        "# custom colormap\n",
        "from matplotlib.colors import LinearSegmentedColormap\n",
        "colors = [\"#000000\", \"#111111\", \"#101010\", \"#121212\", \"#212121\", \"#222222\"]\n",
        "cmap = LinearSegmentedColormap.from_list(\"mycmap\", colors)\n",
        "wc = WordCloud(max_words = 70 , width = 1600, height=800,font_path = fontpath,\n",
        "               background_color = \"white\", colormap = cmap, \n",
        "               ).generate(temp_data)\n",
        "plt.imshow(wc, interpolation = 'bilinear')\n",
        "plt.axis(\"off\")\n",
        "plt.show()"
      ],
      "metadata": {
        "id": "XPrmA3UbjbCe"
      },
      "execution_count": null,
      "outputs": []
    },
    {
      "cell_type": "code",
      "source": [
        "# wc.to_file(\"스팸문제데이터_워드클라우드.png\")"
      ],
      "metadata": {
        "id": "bEOGnscAkbFF"
      },
      "execution_count": null,
      "outputs": []
    }
  ]
}